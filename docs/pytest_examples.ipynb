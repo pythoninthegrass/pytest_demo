{
 "cells": [
  {
   "cell_type": "code",
   "execution_count": null,
   "id": "50c2d148",
   "metadata": {},
   "outputs": [],
   "source": [
    "import unittest\n",
    "\n",
    "class TestStringMethods(unittest.TestCase):\n",
    "\n",
    "    def test_upper(self):\n",
    "        self.assertEqual('foo'.upper(), 'FOO')\n",
    "\n",
    "    def test_isupper(self):\n",
    "        self.assertTrue('FOO'.isupper())\n",
    "        self.assertFalse('Foo'.isupper())\n",
    "\n",
    "    def test_split(self):\n",
    "        s = 'hello world'\n",
    "        self.assertEqual(s.split(), ['hello', 'world'])\n",
    "        # check that s.split fails when the separator is not a string\n",
    "        with self.assertRaises(TypeError):\n",
    "            s.split(2)\n",
    "\n",
    "if __name__ == '__main__':\n",
    "    unittest.main()\n",
    "    "
   ]
  },
  {
   "cell_type": "code",
   "execution_count": null,
   "id": "385c4890",
   "metadata": {},
   "outputs": [],
   "source": [
    "import pytest\n",
    "\n",
    "def test_upper():\n",
    "    assert 'foo'.upper() == 'FOO'\n",
    "\n",
    "def test_isupper():\n",
    "    assert 'FOO'.isupper()\n",
    "    assert not 'Foo'.isupper()\n",
    "\n",
    "def test_split():\n",
    "    s = 'hello world'\n",
    "    assert s.split() == ['hello', 'world']\n",
    "    # check that s.split fails when the separator is not a string\n",
    "    with pytest.raises(TypeError):\n",
    "        s.split(2)\n",
    "    "
   ]
  },
  {
   "cell_type": "code",
   "execution_count": null,
   "id": "798c9c18",
   "metadata": {},
   "outputs": [],
   "source": [
    "from unittest.mock import MagicMock\n",
    "\n",
    "thing = ProductionClass()\n",
    "thing.method = MagicMock(return_value=3)\n",
    "thing.method(3, 4, 5, key='value')                      # 3\n",
    "thing.method.assert_called_with(3, 4, 5, key='value')   # (5, 4, 3)     \n",
    "    "
   ]
  },
  {
   "cell_type": "code",
   "execution_count": null,
   "id": "65c18142",
   "metadata": {},
   "outputs": [],
   "source": [
    "import pytest\n",
    "\n",
    "def test_method(monkeypatch):\n",
    "    thing = ProductionClass()\n",
    "\n",
    "    def mock_method(*args, **kwargs):\n",
    "        assert (args, kwargs) == ((3, 4, 5), {'key': 'value'})\n",
    "        return 3\n",
    "\n",
    "    monkeypatch.setattr(thing, 'method', mock_method)\n",
    "\n",
    "    assert thing.method(3, 4, 5, key='value') == 3\n",
    "    "
   ]
  },
  {
   "cell_type": "code",
   "execution_count": null,
   "id": "3413cb5e",
   "metadata": {},
   "outputs": [],
   "source": [
    "import pytest\n",
    "\n",
    "class Fruit:\n",
    "    def __init__(self, name):\n",
    "        self.name = name\n",
    "\n",
    "    def __eq__(self, other):\n",
    "        return self.name == other.name\n",
    "\n",
    "@pytest.fixture\n",
    "def my_fruit():\n",
    "    return Fruit(\"apple\")\n",
    "\n",
    "@pytest.fixture\n",
    "def fruit_basket(my_fruit):\n",
    "    return [Fruit(\"banana\"), my_fruit]\n",
    "\n",
    "def test_my_fruit_in_basket(my_fruit, fruit_basket):\n",
    "    assert my_fruit in fruit_basket\n",
    "    "
   ]
  }
 ],
 "metadata": {},
 "nbformat": 4,
 "nbformat_minor": 5
}
